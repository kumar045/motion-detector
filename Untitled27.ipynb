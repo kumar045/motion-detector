{
 "cells": [
  {
   "cell_type": "code",
   "execution_count": 1,
   "metadata": {
    "collapsed": false
   },
   "outputs": [],
   "source": [
    "import cv2\n",
    "import numpy as np\n",
    " \n",
    "\n",
    "cap = cv2.VideoCapture(0)\n",
    " \n",
    "\n",
    "\n",
    "if (cap.isOpened()== False): \n",
    "    print(\"Error opening video stream or file\")\n",
    "face_cascade = cv2.CascadeClassifier('haarcascade_frontalface_alt.xml')\n",
    "while(cap.isOpened()):\n",
    "    \n",
    "  ret,frame=cap.read()\n",
    " \n",
    "  \n",
    "  if ret == True:\n",
    "        grey=cv2.cvtColor(frame,cv2.COLOR_BGR2GRAY)\n",
    "        faces=face_cascade.detectMultiScale(grey,1.5,5)\n",
    "        for x,y,w,h in faces:\n",
    "            cv2.rectangle(frame,(x,y),(x+w,y+h),(50,50,200),2)\n",
    "            font=cv2.FONT_HERSHEY_SIMPLEX\n",
    "            cv2.putText(frame,'face',(x,y),font,4,(255,255,255),2,cv2.LINE_AA)\n",
    "            cv2.imshow('output',frame)\n",
    "            \n",
    "       \n",
    "        \n",
    "        if cv2.waitKey(25) & 0xFF == ord('q'):\n",
    "                 break\n",
    "  else:\n",
    "     break    \n",
    "    \n",
    "cap.release()\n",
    "cv2.destroyAllWindows()\n",
    "    \n",
    "  \n",
    "\n",
    "  \n",
    "   \n",
    "        \n",
    "        \n",
    " \n",
    "    "
   ]
  },
  {
   "cell_type": "code",
   "execution_count": null,
   "metadata": {
    "collapsed": true
   },
   "outputs": [],
   "source": []
  }
 ],
 "metadata": {
  "anaconda-cloud": {},
  "kernelspec": {
   "display_name": "Python [default]",
   "language": "python",
   "name": "python3"
  },
  "language_info": {
   "codemirror_mode": {
    "name": "ipython",
    "version": 3
   },
   "file_extension": ".py",
   "mimetype": "text/x-python",
   "name": "python",
   "nbconvert_exporter": "python",
   "pygments_lexer": "ipython3",
   "version": "3.5.2"
  }
 },
 "nbformat": 4,
 "nbformat_minor": 1
}
